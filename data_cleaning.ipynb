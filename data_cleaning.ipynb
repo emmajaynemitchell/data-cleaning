{
 "cells": [
  {
   "cell_type": "markdown",
   "metadata": {},
   "source": [
    "## Read in data sets"
   ]
  },
  {
   "cell_type": "code",
   "execution_count": null,
   "metadata": {},
   "outputs": [],
   "source": [
    "import numpy as np\n",
    "import pandas as pd"
   ]
  },
  {
   "cell_type": "code",
   "execution_count": null,
   "metadata": {},
   "outputs": [],
   "source": [
    "df = pd.read_csv('C:/Users/...)"
   ]
  },
  {
   "cell_type": "markdown",
   "metadata": {},
   "source": [
    "## Remove irrelevant columns\n"
   ]
  },
  {
   "cell_type": "code",
   "execution_count": null,
   "metadata": {},
   "outputs": [],
   "source": [
    "# dropping columns with all nans\n",
    "df = df.dropna(axis=1, how='all')\n",
    "\n",
    "# dropping columns with only one unique value\n",
    "u = df.nunique()\n",
    "df = df.drop(u[u == 1].index, axis = 1)\n"
   ]
  },
  {
   "cell_type": "code",
   "execution_count": null,
   "metadata": {},
   "outputs": [],
   "source": [
    "# finds duplicated columns\n",
    "# doesnt show what its duplicated with, ie  drop all that show up\n",
    "\n",
    "def DuplicatedColumns(df):\n",
    "    '''Gets a list of duplicate columns.\n",
    "    Will iteeate over all columns in a df and find those whose contents are duplicated.\n",
    "    param: dataframe object\n",
    "    returns: list of duplicated columns\n",
    "    '''\n",
    "    DuplicateColumnNames = set()\n",
    "    # iterate over all columns in a df\n",
    "    for x in range(df.shape[1]):\n",
    "        # iterate over all columns in a df from x+1 index until the end\n",
    "        for y in range(x + 1, df.shape[1]):\n",
    "            #select columns at yth index\n",
    "            othercol = df.iloc[:,y]\n",
    "            # check if two columns at x & y index are equal, can change x to y\n",
    "            if col.equals(othercol):\n",
    "                DuplicateColumnNames.add(df.columns.values[y])\n",
    "    return list(DuplicateColumnNames)\n",
    "\n",
    "DuplicatedColumns = DuplicatedColumns(df)\n",
    "print('Duplicated columns are:')\n",
    "for col in DuplicatedColumns:\n",
    "    print('Column name:', col)\n",
    "\n",
    "#drop duplocates\n",
    "df = df.drop(columns=DuplicatedColumns(df))"
   ]
  },
  {
   "cell_type": "code",
   "execution_count": null,
   "metadata": {},
   "outputs": [],
   "source": [
    "# to correct data types\n",
    "df[['','']].apply(pd.to_datetime)\n",
    "# errors='coerce', sets invalid to nan\n",
    "df[['','']].apply(pd.to_numeric, errors='coerce')\n",
    "df[['','']] = df[['','']].astype('object')"
   ]
  },
  {
   "cell_type": "code",
   "execution_count": null,
   "metadata": {},
   "outputs": [],
   "source": [
    "# drop columns with low fill rate\n",
    "# can change 0.8 to whatever you want\n",
    "\n",
    "def drop_columns(self, col_list = [], fill_threshold = 0.8, verbose=True):\n",
    "    fill_threshold_rounded = round(fill_threshold*10)\n",
    "    fill_threshold_rounded_print = round(fill_threshold*100)\n",
    "\n",
    "    if len(col_list)==0:\n",
    "        col_list = self.columns\n",
    "    else:\n",
    "        pass\n",
    "\n",
    "    base_columns = self.columns.to_list()\n",
    "    dataframe_reduced = self[col_list].copy()\n",
    "    considered_columns = list(dataframe_reduced.columns)\n",
    "\n",
    "    not_considered_columns = list(set(base_columns) - set(considered_columns))\n",
    "\n",
    "    dataframe_reduced_filtered = dataframe_reduced.dropna(thresh=fill_threshold_rounded, axis=1)\n",
    "    retained_columns = list(dataframe_reduced_filtered.columns)\n",
    "\n",
    "    if len(not_considered_columns) == 0:\n",
    "        return_columns = retained_columns\n",
    "    else:\n",
    "        return_columns = not_considered_columns + retained_columns\n",
    "\n",
    "    dropped_columns = list(set(considered_columns)) - set(retained_columns))\n",
    "\n",
    "    if verbose == True:\n",
    "        print('The following columns were dropped due to a fill rate of less than {}% : {}'\n",
    "        .format(fill_threshold_rounded_print, dropped_columns))\n",
    "    else:\n",
    "        pass\n",
    "    self.raw_data = self[return_columns]\n",
    "\n",
    "    return self\n",
    "\n",
    "\n",
    "drop_columns(df, col_list = [], fill_threshold=0.8, verbose=True)"
   ]
  }
 ],
 "metadata": {
  "kernelspec": {
   "display_name": "Python 3",
   "language": "python",
   "name": "python3"
  },
  "language_info": {
   "codemirror_mode": {
    "name": "ipython",
    "version": 3
   },
   "file_extension": ".py",
   "mimetype": "text/x-python",
   "name": "python",
   "nbconvert_exporter": "python",
   "pygments_lexer": "ipython3",
   "version": "3.7.4"
  }
 },
 "nbformat": 4,
 "nbformat_minor": 2
}
